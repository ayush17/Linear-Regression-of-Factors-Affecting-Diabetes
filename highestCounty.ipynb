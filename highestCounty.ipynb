import numpy as np
import matplotlib.pyplot as plt
import seaborn as sns
import pandas as pd


def main():
    # Gathering diabetes the data
    diabetesDataFrame = pd.read_excel('2018_diabetes_data.xlsx')
    diabetesDataFrame = diabetesDataFrame.sort_values(
        '%diabetes', ascending=False)
    print("--------------2018-----Diabetes-----------------")
    print(diabetesDataFrame.head(2))
    diabArray = np.array(diabetesDataFrame)
    diabetesList = list(diabArray)

    # Gathering obesity data
    obesityDataFrame = pd.read_excel('2018_obesity_data.xlsx')
    obesityDataFrame = obesityDataFrame.sort_values('% OBESE', ascending=False)
    print("--------------2018------Obesity----------------")
    print(obesityDataFrame.head(2))
    obsArray = np.array(obesityDataFrame)
    obesityList = list(obsArray)

    inactivityDataFrame = pd.read_excel('2018_inactivity_data.xlsx')
    inactivityDataFrame = inactivityDataFrame.sort_values(
        '% INACTIVE', ascending=False)
    print("--------------2018---------Inactivity-------------")
    print(inactivityDataFrame.head(2))

    diabetesDataFrame = pd.read_excel('2016_diabetes_data.xlsx')
    diabetesDataFrame = diabetesDataFrame.sort_values(
        '%diabetes', ascending=False)
    print("--------------2016----------Diabetes------------")
    print(diabetesDataFrame.head(2))
    diabArray = np.array(diabetesDataFrame)
    diabetesList = list(diabArray)

    obesityDataFrame = pd.read_excel('2016_obesity_data.xlsx')
    obesityDataFrame = obesityDataFrame.sort_values('% OBESE', ascending=False)
    print("--------------2016------Obesity----------------")
    print(obesityDataFrame.head(2))
    obsArray = np.array(obesityDataFrame)
    obesityList = list(obsArray)

    inactivityDataFrame = pd.read_excel('2016_inactivity_data.xlsx')
    inactivityDataFrame = inactivityDataFrame.sort_values(
        '% INACTIVE', ascending=False)
    print("--------------2016---------Inactivity-------------")
    print(inactivityDataFrame.head(2))

    diabetesDataFrame = pd.read_excel('2014_diabetes_data.xlsx')
    diabetesDataFrame = diabetesDataFrame.sort_values(
        '%diabetes', ascending=False)
    print("--------------2014----------Diabetes------------")
    print(diabetesDataFrame.head(2))
    diabArray = np.array(diabetesDataFrame)
    diabetesList = list(diabArray)

    obesityDataFrame = pd.read_excel('2014_obesity_data.xlsx')
    obesityDataFrame = obesityDataFrame.sort_values('% OBESE', ascending=False)
    print("--------------2014------Obesity----------------")
    print(obesityDataFrame.head(2))
    obsArray = np.array(obesityDataFrame)
    obesityList = list(obsArray)

    inactivityDataFrame = pd.read_excel('2014_inactivity_data.xlsx')
    inactivityDataFrame = inactivityDataFrame.sort_values(
        '% INACTIVE', ascending=False)
    print("--------------2014---------Inactivity-------------")
    print(inactivityDataFrame.head(2))

    diabetesDataFrame = pd.read_excel('2010_diabetes_data.xlsx')
    diabetesDataFrame = diabetesDataFrame.sort_values(
        '%diabetes', ascending=False)
    print("--------------2010----------Diabetes------------")
    print(diabetesDataFrame.head(2))
    diabArray = np.array(diabetesDataFrame)
    diabetesList = list(diabArray)

    obesityDataFrame = pd.read_excel('2010_obesity_data.xlsx')
    obesityDataFrame = obesityDataFrame.sort_values('% OBESE', ascending=False)
    print("--------------2010------Obesity----------------")
    print(obesityDataFrame.head(2))
    obsArray = np.array(obesityDataFrame)
    obesityList = list(obsArray)

    inactivityDataFrame = pd.read_excel('2010_inactivity_data.xlsx')
    inactivityDataFrame = inactivityDataFrame.sort_values(
        '% INACTIVE', ascending=False)
    print("--------------2010---------Inactivity-------------")
    print(inactivityDataFrame.head(2))


if __name__ == "__main__":
    main()
