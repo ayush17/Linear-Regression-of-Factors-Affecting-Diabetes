{
 "cells": [
  {
   "cell_type": "code",
   "execution_count": 1,
   "id": "ba48b44e-b9a2-46cf-a2f2-ddfc5e4ea68e",
   "metadata": {},
   "outputs": [],
   "source": [
    "import numpy as np\n",
    "import matplotlib.pyplot as plt\n",
    "import seaborn as sns\n",
    "import pandas as pd\n",
    "import scipy.stats\n",
    "import statistics"
   ]
  },
  {
   "cell_type": "code",
   "execution_count": 8,
   "id": "f5a522c6-3a46-474d-a173-e1845446a098",
   "metadata": {},
   "outputs": [
    {
     "name": "stdout",
     "output_type": "stream",
     "text": [
      "----------------Diabetes-----------------\n",
      "    Year  Total - Percentage  Total - Lower Limit  Total - Upper Limit\n",
      "0   2004                 9.2                  7.0                 11.8\n",
      "1   2005                11.3                  8.3                 14.3\n",
      "2   2006                11.7                  8.8                 14.9\n",
      "3   2007                12.2                  9.2                 15.4\n",
      "4   2008                12.1                  9.6                 14.7\n",
      "5   2009                10.9                  7.9                 14.3\n",
      "6   2010                10.0                  6.6                 13.8\n",
      "7   2011                11.4                  8.4                 14.9\n",
      "8   2012                15.0                 12.5                 18.1\n",
      "9   2013                16.7                 13.4                 20.5\n",
      "10  2014                16.9                 14.0                 20.4\n",
      "11  2015                14.5                 11.7                 17.8\n",
      "12  2016                14.0                 11.2                 17.0\n",
      "13  2017                14.4                 12.1                 16.9\n",
      "14  2018                15.9                 13.3                 19.0\n",
      "15  2019                15.2                 12.8                 18.0\n",
      "16  2020                15.3                 12.7                 18.3\n",
      "----------------Inactivity-----------------\n",
      "    Year  Total - Percentage  Total - Lower Limit  Total - Upper Limit\n",
      "0   2004                23.0                 17.4                 28.4\n",
      "1   2005                20.7                 13.9                 28.1\n",
      "2   2006                27.4                 22.3                 32.8\n",
      "3   2007                30.0                 24.8                 35.7\n",
      "4   2008                31.7                 26.8                 36.9\n",
      "5   2009                28.1                 21.0                 36.0\n",
      "6   2010                26.5                 19.1                 34.8\n",
      "7   2011                26.4                 20.4                 34.0\n",
      "8   2012                27.6                 22.0                 33.7\n",
      "9   2013                29.7                 25.0                 34.9\n",
      "10  2014                26.5                 22.1                 31.3\n",
      "11  2015                27.3                 22.6                 32.3\n",
      "12  2016                26.4                 21.9                 31.2\n",
      "13  2017                27.1                 22.9                 31.1\n",
      "14  2018                23.8                 20.3                 27.7\n",
      "15  2019                26.3                 22.5                 30.6\n",
      "16  2020                28.1                 24.0                 32.2\n",
      "----------------Obesity-----------------\n",
      "    Year  Total - Percentage  Total - Lower Limit  Total - Upper Limit\n",
      "0   2004                30.2                 24.8                 36.1\n",
      "1   2005                29.2                 23.7                 35.5\n",
      "2   2006                33.2                 27.1                 39.8\n",
      "3   2007                30.2                 24.9                 36.3\n",
      "4   2008                34.1                 28.4                 40.4\n",
      "5   2009                29.0                 21.9                 36.9\n",
      "6   2010                27.0                 18.5                 36.6\n",
      "7   2011                29.6                 23.7                 36.6\n",
      "8   2012                34.3                 28.0                 40.7\n",
      "9   2013                32.0                 27.9                 37.0\n",
      "10  2014                35.8                 31.0                 41.0\n",
      "11  2015                33.3                 27.8                 38.9\n",
      "12  2016                33.2                 28.4                 38.6\n",
      "13  2017                38.4                 33.6                 43.6\n",
      "14  2018                37.9                 33.6                 42.2\n",
      "15  2019                36.2                 30.4                 42.1\n",
      "16  2020                41.9                 37.1                 46.8\n"
     ]
    }
   ],
   "source": [
    "    diabetesDataFrame = pd.read_excel('ToddCountyDiabetesData.xlsx')\n",
    "    print(\"----------------Diabetes-----------------\")\n",
    "    print(diabetesDataFrame)\n",
    "    diabetesArray = np.array(diabetesDataFrame)\n",
    "    diabetesList = list(diabArray)\n",
    "\n",
    "    inactivityDataFrame = pd.read_excel('ToddCountyInactivityData.xlsx')\n",
    "    print(\"----------------Inactivity-----------------\")\n",
    "    print(inactivityDataFrame)\n",
    "    inactArray = np.array(inactivityDataFrame)\n",
    "    inactList = list(inactArray)\n",
    "\n",
    "    obesityDataFrame = pd.read_excel('ToddCountyObesityData.xlsx')\n",
    "    print(\"----------------Obesity-----------------\")\n",
    "    print(obesityDataFrame)\n",
    "    obesArray = np.array(obesityDataFrame)\n",
    "    obesList = list(obesArray)"
   ]
  },
  {
   "cell_type": "code",
   "execution_count": 9,
   "id": "87c3c192-d6db-4d58-b86d-31ba804e959f",
   "metadata": {},
   "outputs": [
    {
     "ename": "NameError",
     "evalue": "name 'diabetesArray' is not defined",
     "output_type": "error",
     "traceback": [
      "\u001b[0;31m---------------------------------------------------------------------------\u001b[0m",
      "\u001b[0;31mNameError\u001b[0m                                 Traceback (most recent call last)",
      "Cell \u001b[0;32mIn[9], line 1\u001b[0m\n\u001b[0;32m----> 1\u001b[0m \u001b[38;5;28mprint\u001b[39m(\u001b[38;5;124m\"\u001b[39m\u001b[38;5;124mMean->\u001b[39m\u001b[38;5;124m\"\u001b[39m,\u001b[38;5;28msum\u001b[39m(\u001b[43mdiabetesArray\u001b[49m)\u001b[38;5;241m/\u001b[39m\u001b[38;5;28mlen\u001b[39m(diabetesArray))\n\u001b[1;32m      2\u001b[0m \u001b[38;5;28mprint\u001b[39m(\u001b[38;5;124m\"\u001b[39m\u001b[38;5;124mMedian->\u001b[39m\u001b[38;5;124m\"\u001b[39m,statistics\u001b[38;5;241m.\u001b[39mmedian(diabetesArray))\n\u001b[1;32m      3\u001b[0m \u001b[38;5;28mprint\u001b[39m(\u001b[38;5;124m\"\u001b[39m\u001b[38;5;124mStandard Deviation\u001b[39m\u001b[38;5;124m\"\u001b[39m,statistics\u001b[38;5;241m.\u001b[39mstdev(diabetesArray))\n",
      "\u001b[0;31mNameError\u001b[0m: name 'diabetesArray' is not defined"
     ]
    }
   ],
   "source": [
    "print(\"Mean->\",sum(diabetesArray)/len(diabetesArray))\n",
    "print(\"Median->\",statistics.median(diabetesArray))\n",
    "print(\"Standard Deviation\",statistics.stdev(diabetesArray))\n",
    "print(\"Skew\",scipy.stats.skew(diabetesArray))\n",
    "scipy.stats.kurtosis(diabetesArray, fisher=True)\n",
    "mean = np.mean(diabetesArray)\n",
    "std_dev = np.std(diabetesArray)\n",
    "# Calculate kurtosis using the formula\n",
    "n = len(diabetesArray)\n",
    "kurtosis = (np.sum((diabetesArray - mean)**4) / (n * std_dev**4)) - 3\n",
    "print(\"kurtosis\",kurtosis)"
   ]
  },
  {
   "cell_type": "code",
   "execution_count": null,
   "id": "1e6a2e27-dc85-490f-9eb7-b004da28002a",
   "metadata": {},
   "outputs": [],
   "source": []
  }
 ],
 "metadata": {
  "kernelspec": {
   "display_name": "Python 3 (ipykernel)",
   "language": "python",
   "name": "python3"
  },
  "language_info": {
   "codemirror_mode": {
    "name": "ipython",
    "version": 3
   },
   "file_extension": ".py",
   "mimetype": "text/x-python",
   "name": "python",
   "nbconvert_exporter": "python",
   "pygments_lexer": "ipython3",
   "version": "3.11.5"
  }
 },
 "nbformat": 4,
 "nbformat_minor": 5
}
