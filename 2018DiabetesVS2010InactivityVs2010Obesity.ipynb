{
 "cells": [
  {
   "cell_type": "code",
   "execution_count": null,
   "id": "377efeec-5590-49b6-ad05-f09ca351fc4b",
   "metadata": {},
   "outputs": [],
   "source": [
    "    diabetesDataFrame = pd.read_excel('2018_diabetes_data.xlsx')\n",
    "    diabetesDataFrame = diabetesDataFrame.sort_values(\n",
    "        '%diabetes', ascending=True)\n",
    "    print(\"--------------2018-----Diabetes-----------------\")\n",
    "    print(diabetesDataFrame.head(5))\n",
    "    diabArray = np.array(diabetesDataFrame)\n",
    "    diabetesList = list(diabArray)\n",
    "\n",
    "    obesityDataFrame = pd.read_excel('2010_obesity_data.xlsx')\n",
    "    obesityDataFrame = obesityDataFrame.sort_values('% OBESE', ascending=False)\n",
    "    print(\"--------------2010------Obesity----------------\")\n",
    "    print(obesityDataFrame.head(5))\n",
    "    obsArray = np.array(obesityDataFrame)\n",
    "    obesityList = list(obsArray)\n",
    "\n",
    "    inactivityDataFrame = pd.read_excel('2010_inactivity_data.xlsx')\n",
    "    inactivityDataFrame = inactivityDataFrame.sort_values(\n",
    "        '% INACTIVE', ascending=True)\n",
    "    print(\"--------------2010---------Inactivity-------------\")\n",
    "    print(inactivityDataFrame.head(5))"
   ]
  }
 ],
 "metadata": {
  "kernelspec": {
   "display_name": "Python 3 (ipykernel)",
   "language": "python",
   "name": "python3"
  },
  "language_info": {
   "codemirror_mode": {
    "name": "ipython",
    "version": 3
   },
   "file_extension": ".py",
   "mimetype": "text/x-python",
   "name": "python",
   "nbconvert_exporter": "python",
   "pygments_lexer": "ipython3",
   "version": "3.11.5"
  }
 },
 "nbformat": 4,
 "nbformat_minor": 5
}
